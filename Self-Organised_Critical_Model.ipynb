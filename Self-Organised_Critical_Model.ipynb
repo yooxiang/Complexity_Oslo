{
 "cells": [
  {
   "cell_type": "markdown",
   "metadata": {},
   "source": [
    "Implementation of the Oslo model"
   ]
  },
  {
   "cell_type": "code",
   "execution_count": 10,
   "metadata": {},
   "outputs": [],
   "source": [
    "import scipy as sp\n",
    "import matplotlib.pyplot as plt\n",
    "import random\n",
    "\n",
    "def Oslo(L,p,n):\n",
    "    #Initialisation\n",
    "    z = sp.zeros(L)\n",
    "    Z_thresh = sp.zeros(L)\n",
    "    n_grain = 0\n",
    "    \n",
    "    def prob(p):\n",
    "        if random.random() > p:\n",
    "            return 1\n",
    "        else:\n",
    "            return 2\n",
    "            \n",
    "    for i in range(L):\n",
    "        z_thresh[i] = prob(p)\n",
    "    \n",
    "    \n",
    "    #Drive\n",
    "    while n_grain < n:\n",
    "        Z[0] = z[0] + 1\n",
    "\n",
    "    #Relaxation\n",
    "        for i in range(L):\n",
    "            if z[i] > z_thresh[i]: \n",
    "                if i == 1:\n",
    "                    z[i] = z[i] - 2\n",
    "                    z[i+1] = z[i+1] + 1 \n",
    "                if i > 2 and i < L:\n",
    "                    z[i] = z[i] - 2\n",
    "                    z[i+1] = z[i+1] + 1 \n",
    "                    z[i-1] = z[i-1] + 1\n",
    "                if i == L:\n",
    "                    z[i] = z[i] - 1\n",
    "                    z[i-1] = z[i-1] + 1\n",
    "\n",
    "                z_thresh[i] = prob(p)\n",
    "                n_grain  = n_grain =+ 1"
   ]
  },
  {
   "cell_type": "code",
   "execution_count": 4,
   "metadata": {},
   "outputs": [
    {
     "name": "stdout",
     "output_type": "stream",
     "text": [
      "0.8128580816284708\n"
     ]
    }
   ],
   "source": [
    "print(random.random())"
   ]
  },
  {
   "cell_type": "code",
   "execution_count": null,
   "metadata": {},
   "outputs": [],
   "source": []
  }
 ],
 "metadata": {
  "kernelspec": {
   "display_name": "Python 3",
   "language": "python",
   "name": "python3"
  },
  "language_info": {
   "codemirror_mode": {
    "name": "ipython",
    "version": 3
   },
   "file_extension": ".py",
   "mimetype": "text/x-python",
   "name": "python",
   "nbconvert_exporter": "python",
   "pygments_lexer": "ipython3",
   "version": "3.7.3"
  }
 },
 "nbformat": 4,
 "nbformat_minor": 2
}
