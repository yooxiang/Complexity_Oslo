{
 "cells": [
  {
   "cell_type": "markdown",
   "metadata": {},
   "source": [
    "# Implementation of the Oslo model"
   ]
  },
  {
   "cell_type": "code",
   "execution_count": 20,
   "metadata": {},
   "outputs": [],
   "source": [
    "import scipy as sp\n",
    "import matplotlib.pyplot as plt\n",
    "import random"
   ]
  },
  {
   "cell_type": "markdown",
   "metadata": {},
   "source": [
    "The Oslo function which returns the distrabution of grains in each z value. "
   ]
  },
  {
   "cell_type": "code",
   "execution_count": 209,
   "metadata": {},
   "outputs": [
    {
     "data": {
      "image/png": "[encoded data removed]",
      "text/plain": [
       "<Figure size 432x288 with 1 Axes>"
      ]
     },
     "metadata": {
      "needs_background": "light"
     },
     "output_type": "display_data"
    },
    {
     "data": {
      "text/plain": [
       "33.0"
      ]
     },
     "execution_count": 209,
     "metadata": {},
     "output_type": "execute_result"
    }
   ],
   "source": [
    "def Oslo(L,p,n):\n",
    "    #Initialisation\n",
    "    z = sp.zeros(L)\n",
    "    z_thresh = sp.zeros(L)\n",
    "    h = sp.zeros(L)\n",
    "    h_gone = 0\n",
    "    n_grain = 0\n",
    "    h_store = []\n",
    "    \n",
    "    def prob(p):\n",
    "        if random.random() > p:\n",
    "            return 1\n",
    "        else:\n",
    "            return 2\n",
    "            \n",
    "    for i in range(L):\n",
    "        z_thresh[i] = prob(p)\n",
    "    \n",
    "    \n",
    "    #Drive\n",
    "    while n_grain < n:\n",
    "        z[0] = z[0] + 1\n",
    "        h[0] = h[0] + 1\n",
    "        n_grain  = n_grain + 1\n",
    "        h_store.append(h[0])\n",
    "    #Relaxation\n",
    "        for i in range(L):\n",
    "            if z[i] > z_thresh[i]: \n",
    "      \n",
    "                if i == 0:\n",
    "                    z[i] = z[i] - 2\n",
    "                    z[i+1] = z[i+1] + 1 \n",
    "                    \n",
    "                    h[i] = h[i] - 1\n",
    "                    h[i+1] = h[i+1] + 1\n",
    "                \n",
    "                \n",
    "                if i > 0 and i < (L -1):\n",
    "                    z[i] = z[i] - 2\n",
    "                    z[i+1] = z[i+1] + 1 \n",
    "                    z[i-1] = z[i-1] + 1\n",
    "                    \n",
    "                    h[i] = h[i] - 1\n",
    "                    h[i+1] = h[i+1] + 1\n",
    "                    \n",
    "\n",
    "                if i == L -1:\n",
    "                    z[i] = z[i] - 1\n",
    "                    z[i-1] = z[i-1] + 1\n",
    "                    \n",
    "                    h[i] = h[i] - 1\n",
    "                    \n",
    "                   \n",
    "                    h_gone = h_gone + 1\n",
    "                \n",
    "                z_thresh[i] = prob(p)\n",
    "                \n",
    "             \n",
    "    return z , h , h_store\n",
    "\n",
    "def Oslo_plot(L,p,n):\n",
    "    L_plot = sp.linspace(0,L-1,L)    \n",
    "    plt.bar(L_plot,Oslo(L,p,n)[1], width = 1)\n",
    "    plt.xlabel(\"Lattice Number\")\n",
    "    plt.ylabel(\"Height $h$\")\n",
    "    plt.title(\"Oslo Method\")\n",
    "    plt.show()\n",
    "    \n",
    "def Oslo_test(L,p,n):\n",
    "    return sp.mean(Oslo(L,p,n)[2][int(n/2):n:1])\n",
    "\n",
    "Oslo_plot(16,0.5,1000)\n",
    "Oslo_test(16,0.5,1000)\n"
   ]
  },
  {
   "cell_type": "code",
   "execution_count": null,
   "metadata": {},
   "outputs": [],
   "source": []
  },
  {
   "cell_type": "code",
   "execution_count": null,
   "metadata": {},
   "outputs": [],
   "source": []
  }
 ],
 "metadata": {
  "kernelspec": {
   "display_name": "Python 3",
   "language": "python",
   "name": "python3"
  }
 },
 "nbformat": 4,
 "nbformat_minor": 2
}
