{
 "cells": [
  {
   "cell_type": "markdown",
   "metadata": {},
   "source": [
    "# Complexity Project"
   ]
  },
  {
   "cell_type": "markdown",
   "metadata": {},
   "source": [
    "## 1 Implementation of the Oslo model."
   ]
  },
  {
   "cell_type": "code",
   "execution_count": 5,
   "metadata": {},
   "outputs": [],
   "source": [
    "import scipy as sp\n",
    "import matplotlib.pyplot as plt\n",
    "import random"
   ]
  },
  {
   "cell_type": "markdown",
   "metadata": {},
   "source": [
    "The $oslo$ function which returns the final $z$ values and the final $h$ values which are worked out from the $z$ values and setting $h_{L+1} = 0$. The $oslo_plot$ function takes the output of the $oslo$ function and plots the heights."
   ]
  },
  {
   "cell_type": "code",
   "execution_count": 6,
   "metadata": {},
   "outputs": [],
   "source": [
    "def Oslo(L,p,n):\n",
    "    #Initialisation\n",
    "    z = sp.zeros(L)\n",
    "    z_thresh = sp.zeros(L)\n",
    "    n_grain = 0\n",
    "    h_store = []\n",
    "    h = sp.zeros(L)\n",
    "    \n",
    "    one = []\n",
    "    \n",
    "    def prob(p):\n",
    "        if random.random() > p:\n",
    "            return 1\n",
    "            \n",
    "        else:\n",
    "            return 2\n",
    "            \n",
    "    def check_relax(z,z_thresh,L):\n",
    "        relaxed = True\n",
    "        for i in range(L):\n",
    "            if z[i] > z_thresh[i]:\n",
    "                relaxed = False\n",
    "        return relaxed\n",
    "    \n",
    "    def h_generation(z):\n",
    "        h = sp.zeros(L+1) #having the L+1 value as 0\n",
    "        h[L] = 0\n",
    "        for i in range(L-1,-1,-1):\n",
    "            h[i] = z[i] + h[i+1]  \n",
    "        return h\n",
    "                \n",
    "    for i in range(L):\n",
    "        z_thresh[i] = prob(p)\n",
    "    \n",
    "    #Drive\n",
    "    while n_grain < n:\n",
    "\n",
    "        z[0] = z[0] + 1\n",
    "        h[0] = h[0] + 1\n",
    "        n_grain  = n_grain + 1\n",
    "        \n",
    "         \n",
    "            \n",
    "    #Relaxation\n",
    "        while check_relax(z,z_thresh,L) == False:\n",
    "        \n",
    "            for i in range(L):\n",
    "\n",
    "                if z[i] > z_thresh[i]: \n",
    "\n",
    "                    if i == 0:\n",
    "                        z[i] = z[i] - 2\n",
    "                        z[i+1] = z[i+1] + 1\n",
    "                        \n",
    "                        h[i] = h[i] - 1\n",
    "                        h[i+1] = h[i+1] + 1\n",
    "\n",
    "                    if i > 0 and i < (L -1):\n",
    "                        z[i] = z[i] - 2\n",
    "                        z[i+1] = z[i+1] + 1 \n",
    "                        z[i-1] = z[i-1] + 1\n",
    "                        \n",
    "                        h[i] = h[i] - 1\n",
    "                        h[i+1] = h[i+1] + 1\n",
    "\n",
    "                    if i == L - 1:\n",
    "                        z[i] = z[i] - 1\n",
    "                        z[i-1] = z[i-1] + 1\n",
    "                        h[i] = h[i] - 1\n",
    "                        \n",
    "                    u = prob(p)\n",
    "                \n",
    "                    z_thresh[i] = u\n",
    "                    \n",
    "                    one.append(z_thresh[i])\n",
    "                    \n",
    "        h_store.append(h_generation(z)[0])\n",
    "                                \n",
    "    p = h_generation(z)            \n",
    "    return z , p , h_store , z_thresh , h\n",
    "\n",
    "def Oslo_plot(oslo):\n",
    "    L = len(oslo[1])\n",
    "    L_plot = sp.linspace(0,L-1,L) + 0.5\n",
    "    h = oslo[1]\n",
    "    plt.bar(L_plot,h, width = 1)\n",
    "    plt.xlabel(\"Lattice Number\")\n",
    "    plt.ylabel(\"Height $h$\")\n",
    "    plt.title(\"Oslo Method\")\n",
    "    plt.grid()\n",
    "    plt.savefig(\"osls_initial\", dpi = 1000)\n",
    "    plt.show()"
   ]
  },
  {
   "cell_type": "markdown",
   "metadata": {},
   "source": [
    "Below is the result of the oslo_plot function"
   ]
  },
  {
   "cell_type": "code",
   "execution_count": 38,
   "metadata": {},
   "outputs": [
    {
     "data": {
      "image/png": "[encoded data removed]",
      "text/plain": [
       "<Figure size 432x288 with 1 Axes>"
      ]
     },
     "metadata": {
      "needs_background": "light"
     },
     "output_type": "display_data"
    }
   ],
   "source": [
    "x = Oslo(16,0.5,1000)\n",
    "Oslo_plot(x)"
   ]
  },
  {
   "cell_type": "markdown",
   "metadata": {},
   "source": [
    "To test the function, the oslo_test function is used which returns the average height of the first entry after half the grains are added.\n"
   ]
  },
  {
   "cell_type": "code",
   "execution_count": 7,
   "metadata": {},
   "outputs": [
    {
     "name": "stdout",
     "output_type": "stream",
     "text": [
      "26.512\n",
      "28.55263157894737\n"
     ]
    }
   ],
   "source": [
    "def Oslo_test(L,p,n):\n",
    "    x = Oslo(L,p,n)\n",
    "    Slice = int((7*n)/8)\n",
    "    print(sp.mean(x[2][Slice:n:1]))\n",
    "\n",
    "    \n",
    "Oslo_test(16,0.5,3000)\n",
    "Oslo_test(32,0.5,300)"
   ]
  },
  {
   "cell_type": "code",
   "execution_count": 229,
   "metadata": {},
   "outputs": [
    {
     "data": {
      "text/plain": [
       "24.0"
      ]
     },
     "execution_count": 229,
     "metadata": {},
     "output_type": "execute_result"
    }
   ],
   "source": [
    "16*1.5\n"
   ]
  },
  {
   "cell_type": "code",
   "execution_count": null,
   "metadata": {},
   "outputs": [],
   "source": []
  },
  {
   "cell_type": "code",
   "execution_count": null,
   "metadata": {},
   "outputs": [],
   "source": []
  },
  {
   "cell_type": "code",
   "execution_count": null,
   "metadata": {},
   "outputs": [],
   "source": []
  },
  {
   "cell_type": "code",
   "execution_count": null,
   "metadata": {},
   "outputs": [],
   "source": []
  },
  {
   "cell_type": "code",
   "execution_count": null,
   "metadata": {},
   "outputs": [],
   "source": []
  },
  {
   "cell_type": "code",
   "execution_count": null,
   "metadata": {},
   "outputs": [],
   "source": []
  },
  {
   "cell_type": "code",
   "execution_count": null,
   "metadata": {},
   "outputs": [],
   "source": [
    "James :0 good luck on the work !!"
   ]
  },
  {
   "cell_type": "code",
   "execution_count": null,
   "metadata": {},
   "outputs": [],
   "source": []
  }
 ],
 "metadata": {
  "kernelspec": {
   "display_name": "Python 3",
   "language": "python",
   "name": "python3"
  },
  "language_info": {
   "codemirror_mode": {
    "name": "ipython",
    "version": 3
   },
   "file_extension": ".py",
   "mimetype": "text/x-python",
   "name": "python",
   "nbconvert_exporter": "python",
   "pygments_lexer": "ipython3",
   "version": "3.7.3"
  }
 },
 "nbformat": 4,
 "nbformat_minor": 2
}
